{
 "cells": [
  {
   "cell_type": "code",
   "execution_count": 10,
   "metadata": {},
   "outputs": [],
   "source": [
    "import pandas as pd \n",
    "import sys\n",
    "import os\n",
    "sys.path.append(os.path.abspath(r'C:\\Users\\Yibabe\\Desktop\\kifiyaAIMweek-2\\scripts'))\n",
    "from task1_connection import load_data_from_postgres\n"
   ]
  },
  {
   "cell_type": "code",
   "execution_count": 11,
   "metadata": {},
   "outputs": [
    {
     "name": "stderr",
     "output_type": "stream",
     "text": [
      "C:\\Users\\Yibabe\\Desktop\\kifiyaAIMweek-2\\scripts\\task1_connection.py:33: UserWarning: pandas only supports SQLAlchemy connectable (engine/connection) or database string URI or sqlite3 DBAPI2 connection. Other DBAPI2 objects are not tested. Please consider using SQLAlchemy.\n",
      "  df = pd.read_sql_query(query, connection)\n"
     ]
    },
    {
     "data": {
      "text/html": [
       "<div>\n",
       "<style scoped>\n",
       "    .dataframe tbody tr th:only-of-type {\n",
       "        vertical-align: middle;\n",
       "    }\n",
       "\n",
       "    .dataframe tbody tr th {\n",
       "        vertical-align: top;\n",
       "    }\n",
       "\n",
       "    .dataframe thead th {\n",
       "        text-align: right;\n",
       "    }\n",
       "</style>\n",
       "<table border=\"1\" class=\"dataframe\">\n",
       "  <thead>\n",
       "    <tr style=\"text-align: right;\">\n",
       "      <th></th>\n",
       "      <th>Dur. (ms)</th>\n",
       "      <th>Start</th>\n",
       "      <th>End</th>\n",
       "      <th>IMSI</th>\n",
       "      <th>MSISDN/Number</th>\n",
       "      <th>Email DL (Bytes)</th>\n",
       "      <th>Gaming DL (Bytes)</th>\n",
       "      <th>Google DL (Bytes)</th>\n",
       "      <th>Avg RTT DL (ms)</th>\n",
       "      <th>Avg Bearer TP DL (kbps)</th>\n",
       "      <th>...</th>\n",
       "      <th>HTTP DL (Bytes)</th>\n",
       "      <th>HTTP UL (Bytes)</th>\n",
       "      <th>Total DL (Bytes)</th>\n",
       "      <th>Total UL (Bytes)</th>\n",
       "      <th>Social Media DL (Bytes)</th>\n",
       "      <th>Youtube DL (Bytes)</th>\n",
       "      <th>Netflix DL (Bytes)</th>\n",
       "      <th>Handset Type</th>\n",
       "      <th>Handset Manufacturer</th>\n",
       "      <th>Bearer Id</th>\n",
       "    </tr>\n",
       "  </thead>\n",
       "  <tbody>\n",
       "    <tr>\n",
       "      <th>0</th>\n",
       "      <td>951292.0</td>\n",
       "      <td>4/14/2019 2:11</td>\n",
       "      <td>4/25/2019 2:26</td>\n",
       "      <td>2.082010e+14</td>\n",
       "      <td>33763490140.0</td>\n",
       "      <td>2987408.0</td>\n",
       "      <td>748906189.0</td>\n",
       "      <td>1304524.0</td>\n",
       "      <td>39.0</td>\n",
       "      <td>3698.0</td>\n",
       "      <td>...</td>\n",
       "      <td>230583.0</td>\n",
       "      <td>25427.0</td>\n",
       "      <td>775350343.0</td>\n",
       "      <td>58813016.0</td>\n",
       "      <td>3103940.0</td>\n",
       "      <td>12189786.0</td>\n",
       "      <td>6858496.0</td>\n",
       "      <td>undefined</td>\n",
       "      <td>undefined</td>\n",
       "      <td>1.304243e+19</td>\n",
       "    </tr>\n",
       "    <tr>\n",
       "      <th>1</th>\n",
       "      <td>941634.0</td>\n",
       "      <td>4/14/2019 12:48</td>\n",
       "      <td>4/25/2019 10:22</td>\n",
       "      <td>2.082014e+14</td>\n",
       "      <td>33698743617.0</td>\n",
       "      <td>3014208.0</td>\n",
       "      <td>801543830.5</td>\n",
       "      <td>7560820.0</td>\n",
       "      <td>45.0</td>\n",
       "      <td>46.0</td>\n",
       "      <td>...</td>\n",
       "      <td>0.0</td>\n",
       "      <td>0.0</td>\n",
       "      <td>861612261.0</td>\n",
       "      <td>42363146.0</td>\n",
       "      <td>342043.0</td>\n",
       "      <td>18436641.0</td>\n",
       "      <td>10587264.0</td>\n",
       "      <td>Samsung Galaxy A8 (2018)</td>\n",
       "      <td>Samsung</td>\n",
       "      <td>1.311448e+19</td>\n",
       "    </tr>\n",
       "    <tr>\n",
       "      <th>2</th>\n",
       "      <td>864482.0</td>\n",
       "      <td>4/15/2019 0:32</td>\n",
       "      <td>4/25/2019 0:40</td>\n",
       "      <td>2.082003e+14</td>\n",
       "      <td>33659219748.0</td>\n",
       "      <td>522457.0</td>\n",
       "      <td>801543830.5</td>\n",
       "      <td>8601949.0</td>\n",
       "      <td>97.0</td>\n",
       "      <td>3845.0</td>\n",
       "      <td>...</td>\n",
       "      <td>132246.0</td>\n",
       "      <td>32449.0</td>\n",
       "      <td>850570347.0</td>\n",
       "      <td>22417975.0</td>\n",
       "      <td>1541259.0</td>\n",
       "      <td>16338345.0</td>\n",
       "      <td>12211149.0</td>\n",
       "      <td>Samsung Galaxy Note 8 (Sm-N950F Ds)</td>\n",
       "      <td>Samsung</td>\n",
       "      <td>1.304243e+19</td>\n",
       "    </tr>\n",
       "    <tr>\n",
       "      <th>3</th>\n",
       "      <td>848637.0</td>\n",
       "      <td>4/15/2019 10:30</td>\n",
       "      <td>4/25/2019 6:14</td>\n",
       "      <td>2.082098e+14</td>\n",
       "      <td>33665646348.0</td>\n",
       "      <td>3095404.0</td>\n",
       "      <td>565283082.0</td>\n",
       "      <td>4366381.0</td>\n",
       "      <td>45.0</td>\n",
       "      <td>6.0</td>\n",
       "      <td>...</td>\n",
       "      <td>0.0</td>\n",
       "      <td>0.0</td>\n",
       "      <td>594967693.0</td>\n",
       "      <td>56559490.0</td>\n",
       "      <td>2653333.0</td>\n",
       "      <td>2595678.0</td>\n",
       "      <td>16973815.0</td>\n",
       "      <td>undefined</td>\n",
       "      <td>undefined</td>\n",
       "      <td>7.277826e+18</td>\n",
       "    </tr>\n",
       "    <tr>\n",
       "      <th>4</th>\n",
       "      <td>889834.0</td>\n",
       "      <td>4/15/2019 11:33</td>\n",
       "      <td>4/25/2019 18:44</td>\n",
       "      <td>2.082019e+14</td>\n",
       "      <td>33664473872.0</td>\n",
       "      <td>1541381.0</td>\n",
       "      <td>504604946.0</td>\n",
       "      <td>7241855.0</td>\n",
       "      <td>217.0</td>\n",
       "      <td>28305.0</td>\n",
       "      <td>...</td>\n",
       "      <td>35986300.0</td>\n",
       "      <td>689004.0</td>\n",
       "      <td>535118044.0</td>\n",
       "      <td>33691738.0</td>\n",
       "      <td>829305.0</td>\n",
       "      <td>2805710.0</td>\n",
       "      <td>18094847.0</td>\n",
       "      <td>Huawei B593S-22</td>\n",
       "      <td>Huawei</td>\n",
       "      <td>1.311448e+19</td>\n",
       "    </tr>\n",
       "  </tbody>\n",
       "</table>\n",
       "<p>5 rows × 22 columns</p>\n",
       "</div>"
      ],
      "text/plain": [
       "   Dur. (ms)            Start              End          IMSI  MSISDN/Number  \\\n",
       "0   951292.0   4/14/2019 2:11   4/25/2019 2:26  2.082010e+14  33763490140.0   \n",
       "1   941634.0  4/14/2019 12:48  4/25/2019 10:22  2.082014e+14  33698743617.0   \n",
       "2   864482.0   4/15/2019 0:32   4/25/2019 0:40  2.082003e+14  33659219748.0   \n",
       "3   848637.0  4/15/2019 10:30   4/25/2019 6:14  2.082098e+14  33665646348.0   \n",
       "4   889834.0  4/15/2019 11:33  4/25/2019 18:44  2.082019e+14  33664473872.0   \n",
       "\n",
       "   Email DL (Bytes)  Gaming DL (Bytes)  Google DL (Bytes)  Avg RTT DL (ms)  \\\n",
       "0         2987408.0        748906189.0          1304524.0             39.0   \n",
       "1         3014208.0        801543830.5          7560820.0             45.0   \n",
       "2          522457.0        801543830.5          8601949.0             97.0   \n",
       "3         3095404.0        565283082.0          4366381.0             45.0   \n",
       "4         1541381.0        504604946.0          7241855.0            217.0   \n",
       "\n",
       "   Avg Bearer TP DL (kbps)  ...  HTTP DL (Bytes)  HTTP UL (Bytes)  \\\n",
       "0                   3698.0  ...         230583.0          25427.0   \n",
       "1                     46.0  ...              0.0              0.0   \n",
       "2                   3845.0  ...         132246.0          32449.0   \n",
       "3                      6.0  ...              0.0              0.0   \n",
       "4                  28305.0  ...       35986300.0         689004.0   \n",
       "\n",
       "   Total DL (Bytes)  Total UL (Bytes)  Social Media DL (Bytes)  \\\n",
       "0       775350343.0        58813016.0                3103940.0   \n",
       "1       861612261.0        42363146.0                 342043.0   \n",
       "2       850570347.0        22417975.0                1541259.0   \n",
       "3       594967693.0        56559490.0                2653333.0   \n",
       "4       535118044.0        33691738.0                 829305.0   \n",
       "\n",
       "   Youtube DL (Bytes)  Netflix DL (Bytes)  \\\n",
       "0          12189786.0           6858496.0   \n",
       "1          18436641.0          10587264.0   \n",
       "2          16338345.0          12211149.0   \n",
       "3           2595678.0          16973815.0   \n",
       "4           2805710.0          18094847.0   \n",
       "\n",
       "                          Handset Type  Handset Manufacturer     Bearer Id  \n",
       "0                            undefined             undefined  1.304243e+19  \n",
       "1             Samsung Galaxy A8 (2018)               Samsung  1.311448e+19  \n",
       "2  Samsung Galaxy Note 8 (Sm-N950F Ds)               Samsung  1.304243e+19  \n",
       "3                            undefined             undefined  7.277826e+18  \n",
       "4                      Huawei B593S-22                Huawei  1.311448e+19  \n",
       "\n",
       "[5 rows x 22 columns]"
      ]
     },
     "execution_count": 11,
     "metadata": {},
     "output_type": "execute_result"
    }
   ],
   "source": [
    "# Define the query to fetch data from the 'cleaned_data' table\n",
    "query = \"SELECT * FROM cleaned_data\"\n",
    "\n",
    "# Load the data into a DataFrame\n",
    "df_cleaned = load_data_from_postgres(query)\n",
    "\n",
    "# Display the first few rows of the DataFrame to verify\n",
    "df_cleaned.head()\n"
   ]
  },
  {
   "cell_type": "code",
   "execution_count": 12,
   "metadata": {},
   "outputs": [
    {
     "data": {
      "text/plain": [
       "(148992, 22)"
      ]
     },
     "execution_count": 12,
     "metadata": {},
     "output_type": "execute_result"
    }
   ],
   "source": [
    "df_cleaned.shape"
   ]
  },
  {
   "cell_type": "code",
   "execution_count": 13,
   "metadata": {},
   "outputs": [
    {
     "name": "stdout",
     "output_type": "stream",
     "text": [
      "Number of xDR Sessions per User:\n",
      "           IMSI  Number of xDR Sessions\n",
      "0  2.040471e+14                       1\n",
      "1  2.040808e+14                       1\n",
      "2  2.082001e+14                       1\n",
      "3  2.082001e+14                       1\n",
      "4  2.082001e+14                       2\n"
     ]
    }
   ],
   "source": [
    "# Count number of xDR sessions per user\n",
    "session_counts = df_cleaned.groupby('IMSI')['Bearer Id'].count().reset_index(name='Number of xDR Sessions')\n",
    "print(\"Number of xDR Sessions per User:\")\n",
    "print(session_counts.head())\n"
   ]
  },
  {
   "cell_type": "code",
   "execution_count": 14,
   "metadata": {},
   "outputs": [
    {
     "name": "stdout",
     "output_type": "stream",
     "text": [
      "Total Session Duration per User:\n",
      "           IMSI  Total Session Duration (ms)\n",
      "0  2.040471e+14                     869844.0\n",
      "1  2.040808e+14                     877385.0\n",
      "2  2.082001e+14                      86019.0\n",
      "3  2.082001e+14                      86254.0\n",
      "4  2.082001e+14                     573923.0\n"
     ]
    }
   ],
   "source": [
    "# Calculate total session duration per user\n",
    "total_durations = df_cleaned.groupby('IMSI')['Dur. (ms)'].sum().reset_index(name='Total Session Duration (ms)')\n",
    "print(\"Total Session Duration per User:\")\n",
    "print(total_durations.head())\n"
   ]
  },
  {
   "cell_type": "code",
   "execution_count": 15,
   "metadata": {},
   "outputs": [
    {
     "name": "stdout",
     "output_type": "stream",
     "text": [
      "Total Download and Upload Data per User:\n",
      "           IMSI  Total Download (Bytes)  Total Upload (Bytes)\n",
      "0  2.040471e+14              78697597.0            60456049.0\n",
      "1  2.040808e+14             194828056.0            37295915.0\n",
      "2  2.082001e+14              31376981.0            53794658.0\n",
      "3  2.082001e+14             392918313.0            33583272.0\n",
      "4  2.082001e+14             961767023.0            71325004.0\n"
     ]
    }
   ],
   "source": [
    "# Calculate total download and upload data per user\n",
    "total_dl_ul = df_cleaned.groupby('IMSI').agg({\n",
    "    'Total DL (Bytes)': 'sum',\n",
    "    'Total UL (Bytes)': 'sum'\n",
    "}).reset_index()\n",
    "total_dl_ul.rename(columns={'Total DL (Bytes)': 'Total Download (Bytes)', 'Total UL (Bytes)': 'Total Upload (Bytes)'}, inplace=True)\n",
    "print(\"Total Download and Upload Data per User:\")\n",
    "print(total_dl_ul.head())\n"
   ]
  },
  {
   "cell_type": "code",
   "execution_count": 16,
   "metadata": {},
   "outputs": [
    {
     "name": "stdout",
     "output_type": "stream",
     "text": [
      "Total Data Volume per Application per User:\n",
      "           IMSI  Social Media DL (Bytes)  Youtube DL (Bytes)  \\\n",
      "0  2.040471e+14                1500145.0          18980320.0   \n",
      "1  2.040808e+14                 668596.0           9839889.0   \n",
      "2  2.082001e+14                3073697.0           5556563.0   \n",
      "3  2.082001e+14                2542767.0          22076208.8   \n",
      "4  2.082001e+14                3326811.0           4046597.0   \n",
      "\n",
      "   Netflix DL (Bytes)  Google DL (Bytes)  Email DL (Bytes)  Gaming DL (Bytes)  \\\n",
      "0          21621336.0          5985089.0         2518425.0         42060209.5   \n",
      "1          10340908.0          8572779.0          842279.0        164563605.0   \n",
      "2          15305361.0           603691.0         3076735.0         42060209.5   \n",
      "3          10065639.0         10699827.0         3248863.0        343946503.0   \n",
      "4          30725208.9          9118088.0         4225757.0        910301321.0   \n",
      "\n",
      "   Other DL (Bytes)  \n",
      "0      3.891597e+08  \n",
      "1      4.676781e+08  \n",
      "2      5.000445e+08  \n",
      "3      3.009029e+08  \n",
      "4      1.055869e+09  \n"
     ]
    }
   ],
   "source": [
    "# Calculate total data volume per application per user\n",
    "applications = ['Social Media DL (Bytes)', 'Youtube DL (Bytes)', 'Netflix DL (Bytes)', 'Google DL (Bytes)', 'Email DL (Bytes)', 'Gaming DL (Bytes)', 'Other DL (Bytes)']\n",
    "app_data_volumes = df_cleaned.groupby('IMSI').agg({\n",
    "    **{app: 'sum' for app in applications}\n",
    "}).reset_index()\n",
    "\n",
    "print(\"Total Data Volume per Application per User:\")\n",
    "print(app_data_volumes.head())\n"
   ]
  },
  {
   "cell_type": "code",
   "execution_count": 17,
   "metadata": {},
   "outputs": [
    {
     "name": "stdout",
     "output_type": "stream",
     "text": [
      "User Overview DataFrame:\n",
      "           IMSI  Number of xDR Sessions  Total Session Duration (ms)  \\\n",
      "0  2.040471e+14                       1                     869844.0   \n",
      "1  2.040808e+14                       1                     877385.0   \n",
      "2  2.082001e+14                       1                      86019.0   \n",
      "3  2.082001e+14                       1                      86254.0   \n",
      "4  2.082001e+14                       2                     573923.0   \n",
      "\n",
      "   Total Download (Bytes)  Total Upload (Bytes)  Social Media DL (Bytes)  \\\n",
      "0              78697597.0            60456049.0                1500145.0   \n",
      "1             194828056.0            37295915.0                 668596.0   \n",
      "2              31376981.0            53794658.0                3073697.0   \n",
      "3             392918313.0            33583272.0                2542767.0   \n",
      "4             961767023.0            71325004.0                3326811.0   \n",
      "\n",
      "   Youtube DL (Bytes)  Netflix DL (Bytes)  Google DL (Bytes)  \\\n",
      "0          18980320.0          21621336.0          5985089.0   \n",
      "1           9839889.0          10340908.0          8572779.0   \n",
      "2           5556563.0          15305361.0           603691.0   \n",
      "3          22076208.8          10065639.0         10699827.0   \n",
      "4           4046597.0          30725208.9          9118088.0   \n",
      "\n",
      "   Email DL (Bytes)  Gaming DL (Bytes)  Other DL (Bytes)  \n",
      "0         2518425.0         42060209.5      3.891597e+08  \n",
      "1          842279.0        164563605.0      4.676781e+08  \n",
      "2         3076735.0         42060209.5      5.000445e+08  \n",
      "3         3248863.0        343946503.0      3.009029e+08  \n",
      "4         4225757.0        910301321.0      1.055869e+09  \n"
     ]
    }
   ],
   "source": [
    "# Merge all aggregated data into one DataFrame\n",
    "user_overview = session_counts.merge(total_durations, on='IMSI')\n",
    "user_overview = user_overview.merge(total_dl_ul, on='IMSI')\n",
    "user_overview = user_overview.merge(app_data_volumes, on='IMSI')\n",
    "\n",
    "print(\"User Overview DataFrame:\")\n",
    "print(user_overview.head())\n"
   ]
  },
  {
   "cell_type": "code",
   "execution_count": null,
   "metadata": {},
   "outputs": [],
   "source": []
  },
  {
   "cell_type": "code",
   "execution_count": null,
   "metadata": {},
   "outputs": [],
   "source": []
  }
 ],
 "metadata": {
  "kernelspec": {
   "display_name": "venv",
   "language": "python",
   "name": "python3"
  },
  "language_info": {
   "codemirror_mode": {
    "name": "ipython",
    "version": 3
   },
   "file_extension": ".py",
   "mimetype": "text/x-python",
   "name": "python",
   "nbconvert_exporter": "python",
   "pygments_lexer": "ipython3",
   "version": "3.12.5"
  }
 },
 "nbformat": 4,
 "nbformat_minor": 2
}
